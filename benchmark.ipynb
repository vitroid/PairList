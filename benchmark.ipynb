{
  "cells": [
    {
      "cell_type": "markdown",
      "metadata": {
        "id": "view-in-github",
        "colab_type": "text"
      },
      "source": [
        "<a href=\"https://colab.research.google.com/github/vitroid/PairList/blob/master/benchmark.ipynb\" target=\"_parent\"><img src=\"https://colab.research.google.com/assets/colab-badge.svg\" alt=\"Open In Colab\"/></a>"
      ]
    },
    {
      "cell_type": "code",
      "execution_count": 6,
      "metadata": {
        "id": "8faUI5H2mFb6",
        "outputId": "09ad16ad-cb36-40b8-96b4-fbe6bd79b050",
        "colab": {
          "base_uri": "https://localhost:8080/"
        }
      },
      "outputs": [
        {
          "output_type": "stream",
          "name": "stdout",
          "text": [
            "Requirement already satisfied: pairlist in /usr/local/lib/python3.11/dist-packages (0.5.1.3)\n",
            "Requirement already satisfied: numpy<2.0.0,>=1.26.2 in /usr/local/lib/python3.11/dist-packages (from pairlist) (1.26.4)\n",
            "fatal: destination path 'PairList' already exists and is not an empty directory.\n"
          ]
        }
      ],
      "source": [
        "try:\n",
        "    import google.colab\n",
        "    ! pip install pairlist\n",
        "    ! git clone https://github.com/vitroid/PairList.git\n",
        "    import sys\n",
        "    sys.path.append(\"PairList\")\n",
        "except:\n",
        "    ! pip install ."
      ]
    },
    {
      "cell_type": "code",
      "execution_count": 7,
      "metadata": {
        "id": "GzhHT5FMmFb7",
        "outputId": "fee0ca97-fe9f-4430-ef23-aec1cfbbf449",
        "colab": {
          "base_uri": "https://localhost:8080/"
        }
      },
      "outputs": [
        {
          "output_type": "stream",
          "name": "stderr",
          "text": [
            "INFO:root:crude: Neighboring pair list by a crude double loop.\n",
            "INFO:root:crude: 60742 ms\n",
            "INFO:root:crude: end.\n",
            "INFO:root:numpyish: Neighboring pair list by numpy fancy array.\n"
          ]
        },
        {
          "output_type": "stream",
          "name": "stdout",
          "text": [
            "24000 pairs\n"
          ]
        },
        {
          "output_type": "stream",
          "name": "stderr",
          "text": [
            "INFO:root:numpyish: 1563 ms\n",
            "INFO:root:numpyish: end.\n",
            "INFO:root:pairlist_py: Neighboring pair list by pairlist in pure python.\n"
          ]
        },
        {
          "output_type": "stream",
          "name": "stdout",
          "text": [
            "24000.0 pairs\n"
          ]
        },
        {
          "output_type": "stream",
          "name": "stderr",
          "text": [
            "INFO:root:pairlist_py: 440 ms\n",
            "INFO:root:pairlist_py: end.\n",
            "INFO:root:pairlist_c: Neighboring pair list by pairlist in c.\n",
            "INFO:root:pairlist_c: end.\n",
            "INFO:root:pairlist_c: 32 ms\n"
          ]
        },
        {
          "output_type": "stream",
          "name": "stdout",
          "text": [
            "24000 pairs\n",
            "24000 pairs\n"
          ]
        }
      ],
      "source": [
        "import pairlist as pl\n",
        "from benchmark.fcc import FaceCenteredCubic\n",
        "from logging import getLogger, basicConfig, INFO, DEBUG\n",
        "from benchmark.decorator import timeit, banner\n",
        "import numpy as np\n",
        "from pairlist import pairs_py, pairs2_py\n",
        "\n",
        "\n",
        "basicConfig(level=INFO, format=\"%(levelname)s %(message)s\")\n",
        "logger = getLogger()\n",
        "logger.setLevel(INFO)\n",
        "logger.debug(\"Debug mode.\")\n",
        "\n",
        "\n",
        "@banner\n",
        "@timeit\n",
        "def crude(lattice, cell, rc=1.1):\n",
        "    \"Neighboring pair list by a crude double loop.\"\n",
        "    rc2 = rc**2\n",
        "    count = 0\n",
        "    for i in range(len(lattice)):\n",
        "        for j in range(i):\n",
        "            d = lattice[i] - lattice[j]\n",
        "            d -= np.floor(d + 0.5)\n",
        "            d = d @ cell\n",
        "            if d @ d < rc2:\n",
        "                count += 1\n",
        "    return count\n",
        "\n",
        "\n",
        "@banner\n",
        "@timeit\n",
        "def numpyish(lattice, cell, rc=1.1):\n",
        "    \"Neighboring pair list by numpy fancy array.\"\n",
        "    # cross-differences\n",
        "    M = lattice[:, None, :] - lattice[None, :, :]\n",
        "    # wrap\n",
        "    M -= np.floor(M + 0.5)\n",
        "    # in absolute coordinate\n",
        "    M = M @ cell\n",
        "    d = (M * M).sum(2)\n",
        "    return d[(d < rc**2) & (0 < d)].shape[0] / 2\n",
        "\n",
        "\n",
        "@banner\n",
        "@timeit\n",
        "def pairlist_py(lattice, cell, rc=1.1):\n",
        "    \"Neighboring pair list by pairlist in pure python.\"\n",
        "    count = 0\n",
        "    for i, j, d in pl.pairs_iter(\n",
        "        lattice, maxdist=rc, cell=cell, _engine=(pairs_py, pairs2_py)\n",
        "    ):\n",
        "        count += 1\n",
        "    return count\n",
        "\n",
        "\n",
        "@timeit\n",
        "@banner\n",
        "def pairlist_c(lattice, cell, rc=1.1):\n",
        "    \"Neighboring pair list by pairlist in c.\"\n",
        "    count = 0\n",
        "    for i, j, d in pl.pairs_iter(lattice, maxdist=rc, cell=cell):\n",
        "        count += 1\n",
        "    return count\n",
        "\n",
        "\n",
        "lattice, cell = FaceCenteredCubic(10)\n",
        "\n",
        "print(crude(lattice, cell), \"pairs\")\n",
        "print(numpyish(lattice, cell), \"pairs\")\n",
        "print(pairlist_py(lattice, cell), \"pairs\")\n",
        "print(pairlist_c(lattice, cell), \"pairs\")\n"
      ]
    },
    {
      "cell_type": "code",
      "execution_count": 8,
      "metadata": {
        "id": "nQfD3iH_mFb8",
        "outputId": "8f9d5bfc-0c1c-44b4-d107-eb5775e878ef",
        "colab": {
          "base_uri": "https://localhost:8080/",
          "height": 455
        }
      },
      "outputs": [
        {
          "output_type": "display_data",
          "data": {
            "text/plain": [
              "<Figure size 640x480 with 1 Axes>"
            ],
            "image/png": "[encoded data removed]"
          },
          "metadata": {}
        }
      ],
      "source": [
        "import pairlist as pl\n",
        "from benchmark.fcc import FaceCenteredCubic\n",
        "import time\n",
        "import matplotlib.pyplot as plt\n",
        "import numpy as np\n",
        "\n",
        "\n",
        "def pairlist_c(lattice, cell, rc=1.1):\n",
        "    \"Neighboring pair list by pairlist in c.\"\n",
        "    count = 0\n",
        "    for i, j, d in pl.pairs_iter(lattice, maxdist=rc, cell=cell):\n",
        "        count += 1\n",
        "    return count\n",
        "\n",
        "\n",
        "nvertex = []\n",
        "durations = []\n",
        "for i in (2, 3, 4, 6, 8, 12, 16, 24, 32, 48, 64):\n",
        "    lattice, cell = FaceCenteredCubic(i)\n",
        "    nvertex.append(len(lattice))\n",
        "    start = time.time()\n",
        "    pairlist_c(lattice, cell)\n",
        "    duration = time.time() - start\n",
        "    durations.append(duration)\n",
        "\n",
        "nvertex = np.array(nvertex, dtype=float)\n",
        "plt.loglog(nvertex, durations, \"o-\")\n",
        "plt.loglog(nvertex, nvertex / 100000, \"-\")\n",
        "plt.xlabel(\"# of vertices\")\n",
        "plt.ylabel(\"Time / s\")\n",
        "\n",
        "plt.show()\n"
      ]
    },
    {
      "cell_type": "code",
      "execution_count": null,
      "metadata": {
        "id": "sziG9238mFb8"
      },
      "outputs": [],
      "source": []
    }
  ],
  "metadata": {
    "kernelspec": {
      "display_name": ".venv",
      "language": "python",
      "name": "python3"
    },
    "language_info": {
      "codemirror_mode": {
        "name": "ipython",
        "version": 3
      },
      "file_extension": ".py",
      "mimetype": "text/x-python",
      "name": "python",
      "nbconvert_exporter": "python",
      "pygments_lexer": "ipython3",
      "version": "3.11.4"
    },
    "colab": {
      "provenance": [],
      "include_colab_link": true
    }
  },
  "nbformat": 4,
  "nbformat_minor": 0
}